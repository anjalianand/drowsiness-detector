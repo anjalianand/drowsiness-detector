{
 "cells": [
  {
   "cell_type": "code",
   "execution_count": 1,
   "metadata": {},
   "outputs": [],
   "source": [
    "#Import Required Libraries\n",
    "import cv2\n",
    "import numpy as np\n",
    "import time\n",
    "import playsound\n",
    "from datetime import datetime"
   ]
  },
  {
   "cell_type": "code",
   "execution_count": 2,
   "metadata": {},
   "outputs": [],
   "source": [
    "#Load Haar Cascades Classifier for face and eye detection\n",
    "face_classifier = cv2.CascadeClassifier('Haarcascades/haarcascade_frontalface_default.xml') \n",
    "eye_classifier = cv2.CascadeClassifier('Haarcascades/haarcascade_eye.xml')\n",
    "\n",
    "alarm = False\n",
    "counter = 0\n",
    "start = ''\n",
    "\n",
    "#Detect drowsiness symptoms\n",
    "def drowsiness_detector(image):\n",
    "    \n",
    "    #Change colored image itno grayscale image\n",
    "    gray = cv2.cvtColor(image, cv2.COLOR_BGR2GRAY)\n",
    "    \n",
    "    #Detect face with the help of Haar Cascades Classifier\n",
    "    faces = face_classifier.detectMultiScale(gray, 1.3,5)\n",
    "    \n",
    "    #If no face detected return the original image\n",
    "    if faces is ():\n",
    "        return image\n",
    "    \n",
    "    \n",
    "    for (x,y,w,h) in faces:\n",
    "        #Highlighting faces if present\n",
    "        cv2.rectangle(image,(x,y), (x+w, y+h),(0,0,255), 2)\n",
    "        roi_gray = gray[y:y+h, x:x+w]\n",
    "        \n",
    "        #Eye detection in case of face detected\n",
    "        eyes = eye_classifier.detectMultiScale(roi_gray, 1.3, 4)\n",
    "        \n",
    "        if eyes is ():\n",
    "            global counter, start, end\n",
    "            counter +=1\n",
    "            if counter == 1:\n",
    "                start = datetime.now()\n",
    "            end = datetime.now()\n",
    "            #If no eye detected for more than 10 sec, alarm starts.\n",
    "            if (end - start).seconds == 10:\n",
    "                alarm = True\n",
    "                print('alarm starts at', datetime.now().time() )\n",
    "                playsound.playsound('alarm.wav')\n",
    "            \n",
    "            return image\n",
    "        \n",
    "        #Highlighting eyes if present\n",
    "        for (ex,ey,ew,eh) in eyes:\n",
    "            cv2.rectangle(image, (x+ex, y+ey), (x+ex+ew,y+ey+eh), (0,255,0), 2)\n",
    "            \n",
    "    #Set values back to initial in case of no drowsiness detected      \n",
    "    counter = 0  \n",
    "    start = ''\n",
    "    return image"
   ]
  },
  {
   "cell_type": "code",
   "execution_count": 3,
   "metadata": {},
   "outputs": [
    {
     "name": "stdout",
     "output_type": "stream",
     "text": [
      "alarm starts at 20:05:41.595580\n"
     ]
    }
   ],
   "source": [
    "#Initialize the web camera\n",
    "cap = cv2.VideoCapture(0)\n",
    "\n",
    "while True:\n",
    "    ret, frame = cap.read()\n",
    "    cv2.imshow('Drowsiness Detector', drowsiness_detector(frame))\n",
    "    if cv2.waitKey(1)==13: #Press Enter Key to stop\n",
    "        break\n",
    "        \n",
    "cap.release()\n",
    "cv2.destroyAllWindows()"
   ]
  },
  {
   "cell_type": "code",
   "execution_count": null,
   "metadata": {},
   "outputs": [],
   "source": []
  }
 ],
 "metadata": {
  "kernelspec": {
   "display_name": "Python 3",
   "language": "python",
   "name": "python3"
  },
  "language_info": {
   "codemirror_mode": {
    "name": "ipython",
    "version": 3
   },
   "file_extension": ".py",
   "mimetype": "text/x-python",
   "name": "python",
   "nbconvert_exporter": "python",
   "pygments_lexer": "ipython3",
   "version": "3.6.5"
  }
 },
 "nbformat": 4,
 "nbformat_minor": 2
}
